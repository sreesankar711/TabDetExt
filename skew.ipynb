{
 "cells": [
  {
   "cell_type": "code",
   "execution_count": 1,
   "metadata": {},
   "outputs": [],
   "source": [
    "import os\n",
    "import torch\n",
    "from torch.utils.data import DataLoader\n",
    "import torch.nn as nn\n",
    "from tqdm import tqdm\n",
    "import time\n",
    "from PIL import Image\n",
    "\n",
    "from skew_ml import SkewDataset, ResNetRegression, train_model, transform\n",
    "\n",
    "device = torch.device(\"cuda\" if torch.cuda.is_available() else \"cpu\")"
   ]
  },
  {
   "cell_type": "code",
   "execution_count": null,
   "metadata": {},
   "outputs": [],
   "source": [
    "train_dataset = SkewDataset(csv_file='/kaggle/input/deskew/label/train.csv',\n",
    "                            root_dir='/kaggle/input/deskew/images/train',\n",
    "                            transform=transform)\n",
    "train_loader = DataLoader(train_dataset, batch_size=16, shuffle=True)\n",
    "\n",
    "valid_dataset = SkewDataset(csv_file='/kaggle/input/deskew/label/valid.csv',\n",
    "                            root_dir='/kaggle/input/deskew/images/valid',\n",
    "                            transform=transform)\n",
    "valid_loader = DataLoader(valid_dataset, batch_size=16, shuffle=False)"
   ]
  },
  {
   "cell_type": "code",
   "execution_count": null,
   "metadata": {},
   "outputs": [],
   "source": [
    "modelname=\"resnet50\""
   ]
  },
  {
   "cell_type": "code",
   "execution_count": null,
   "metadata": {},
   "outputs": [],
   "source": [
    "model = ResNetRegression(modelname).to(device)\n",
    "criterion = nn.MSELoss()\n",
    "optimizer = torch.optim.Adam(model.parameters(), lr=0.001)"
   ]
  },
  {
   "cell_type": "code",
   "execution_count": null,
   "metadata": {},
   "outputs": [],
   "source": [
    "train_model(model, criterion, optimizer, train_loader, valid_loader, num_epochs=50, num_save=2)"
   ]
  },
  {
   "cell_type": "code",
   "execution_count": null,
   "metadata": {},
   "outputs": [],
   "source": [
    "# resnet18\n",
    "# !curl -O -L \"https://huggingface.co/sree711/resnetregression/resolve/main/regressionnet18.pth?download=true\""
   ]
  },
  {
   "cell_type": "code",
   "execution_count": null,
   "metadata": {},
   "outputs": [],
   "source": [
    "# resnet50\n",
    "# !curl -O -L \"https://huggingface.co/sree711/resnetregression/resolve/main/regressionnet50.pth?download=true\""
   ]
  },
  {
   "cell_type": "code",
   "execution_count": null,
   "metadata": {},
   "outputs": [],
   "source": [
    "# checkpoint = torch.load(\"regressionnet50.pth\")\n",
    "# model.load_state_dict(checkpoint['model_state_dict'])"
   ]
  },
  {
   "cell_type": "code",
   "execution_count": null,
   "metadata": {},
   "outputs": [],
   "source": [
    "checkpoint = torch.load(\"/kaggle/input/resnet50-regression/chkmodel35.pth\")\n",
    "model.load_state_dict(checkpoint['model_state_dict'])"
   ]
  },
  {
   "cell_type": "code",
   "execution_count": null,
   "metadata": {},
   "outputs": [],
   "source": [
    "csv_file =  \"/kaggle/input/deskew/label/test.csv\"\n",
    "root_dir = \"/kaggle/input/deskew/images/test\""
   ]
  },
  {
   "cell_type": "code",
   "execution_count": null,
   "metadata": {},
   "outputs": [],
   "source": [
    "test_dataset = SkewDataset(csv_file=csv_file,\n",
    "                                root_dir=root_dir,\n",
    "                                transform=transform)\n",
    "\n",
    "test_loader = DataLoader(test_dataset, batch_size=8, shuffle=False)\n",
    "model.eval()\n",
    "total_loss = 0.0\n",
    "criterion = torch.nn.L1Loss()\n",
    "with torch.no_grad():\n",
    "    mean_preprocess = 0\n",
    "    mean_inference = 0\n",
    "        \n",
    "    for images, angles in tqdm(test_loader, unit='it'):\n",
    "        start_preprocess = time.time()\n",
    "        images = images.to(device)\n",
    "        angles = angles.to(device)\n",
    "        end_preprocess = time.time()\n",
    "        mean_preprocess += (end_preprocess - start_preprocess) * 1000\n",
    "            \n",
    "        start_inference = time.time()\n",
    "        outputs = model(images)\n",
    "        end_inference = time.time()\n",
    "        mean_inference += (end_inference - start_inference) * 1000  \n",
    "            \n",
    "        loss = criterion(outputs, angles.float())\n",
    "        total_loss += loss.item() * images.size(0)\n",
    "\n",
    "mean_preprocess /= len(test_loader)\n",
    "mean_inference /= len(test_loader)\n",
    "\n",
    "mean_loss = total_loss / len(test_loader.dataset)\n",
    "print(f\"Mean Preprocessing Time: {mean_preprocess:.4f} ms\")\n",
    "print(f\"Mean Inference Time: {mean_inference:.4f} ms\")\n",
    "print(f\"Test Loss: {mean_loss:.4f}\")"
   ]
  },
  {
   "cell_type": "code",
   "execution_count": null,
   "metadata": {},
   "outputs": [],
   "source": [
    "def predict_skew_angle(model, image_path):\n",
    "    image = Image.open(image_path)\n",
    "    input_image = transform(image).unsqueeze(0).to(device)\n",
    "\n",
    "    model.eval()\n",
    "    with torch.no_grad():\n",
    "        output = model(input_image)\n",
    "        \n",
    "    predicted_angle = output.item()\n",
    "    print(f\"Predicted skew angle: {predicted_angle:.3f} degrees\")"
   ]
  },
  {
   "cell_type": "code",
   "execution_count": null,
   "metadata": {},
   "outputs": [],
   "source": [
    "file = os.listdir(\"/kaggle/input/deskew/images/test\")[1]\n",
    "predict_skew_angle(model, os.path.join(\"/kaggle/input/deskew/images/test\", file))"
   ]
  },
  {
   "cell_type": "code",
   "execution_count": null,
   "metadata": {},
   "outputs": [],
   "source": [
    "import pandas as pd\n",
    "csv_path = '/kaggle/input/deskew/label/test.csv'\n",
    "df = pd.read_csv(csv_path)\n",
    "row = df[df['filename'] == os.path.basename(file)]\n",
    "if not row.empty:\n",
    "    print(row)"
   ]
  }
 ],
 "metadata": {
  "kernelspec": {
   "display_name": "Python 3",
   "language": "python",
   "name": "python3"
  },
  "language_info": {
   "codemirror_mode": {
    "name": "ipython",
    "version": 3
   },
   "file_extension": ".py",
   "mimetype": "text/x-python",
   "name": "python",
   "nbconvert_exporter": "python",
   "pygments_lexer": "ipython3",
   "version": "3.12.2"
  }
 },
 "nbformat": 4,
 "nbformat_minor": 2
}
