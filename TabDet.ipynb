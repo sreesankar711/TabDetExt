{
 "cells": [
  {
   "cell_type": "code",
   "execution_count": null,
   "metadata": {},
   "outputs": [],
   "source": [
    "import wandb\n",
    "import torch\n",
    "import os\n",
    "import yaml\n",
    "from pathlib import Path\n",
    "import xml.etree.ElementTree as ET\n",
    "from tqdm import tqdm\n",
    "\n",
    "from ultralytics import RTDETR"
   ]
  },
  {
   "cell_type": "code",
   "execution_count": null,
   "metadata": {},
   "outputs": [],
   "source": [
    "yaml_data = \"\"\"\n",
    "path: datasets/tables\n",
    "train: \n",
    "  - images/train\n",
    "val: \n",
    "  - images/val\n",
    "test:\n",
    "  - images/test\n",
    "names:\n",
    "  0: table\n",
    "  1: table rotated\n",
    "  \n",
    "  \"\"\"\n",
    "\n",
    "\n",
    "file_path = 'datasets/tables/data.yaml'\n",
    "\n",
    "with open(file_path, 'w') as yaml_file:\n",
    "    yaml_file.write(yaml_data)"
   ]
  },
  {
   "cell_type": "code",
   "execution_count": null,
   "metadata": {},
   "outputs": [],
   "source": [
    "with open(\"datasets\\\\tables\\\\data.yaml\", 'r') as file:\n",
    "    data = yaml.load(file, Loader=yaml.FullLoader)\n",
    "\n",
    "\n",
    "def convert_label(path, lb_path, image_id,image_set):\n",
    "    def convert_box(size, box):\n",
    "        dw, dh = 1. / size[0], 1. / size[1]\n",
    "        x, y, w, h = (box[0] + box[1]) / 2.0 - 1, (box[2] + box[3]) / 2.0 - 1, box[1] - box[0], box[3] - box[2]\n",
    "        return x * dw, y * dh, w * dw, h * dh\n",
    "\n",
    "    in_file = open(f\"datasets/tables/anno/{image_set}/{image_id}.xml\")\n",
    "    out_file = open(lb_path, 'w')\n",
    "    tree = ET.parse(in_file)\n",
    "    root = tree.getroot()\n",
    "    size = root.find('size')\n",
    "    w = int(size.find('width').text)\n",
    "    h = int(size.find('height').text)\n",
    "\n",
    "    names = list(data['names'].values()) \n",
    "    for obj in root.iter('object'): \n",
    "        cls = obj.find('name').text\n",
    "        if cls in names and int(obj.find('difficult').text) != 1:\n",
    "            xmlbox = obj.find('bndbox')\n",
    "            bb = convert_box((w, h), [float(xmlbox.find(x).text) for x in ('xmin', 'xmax', 'ymin', 'ymax')])\n",
    "            cls_id = names.index(cls)\n",
    "            out_file.write(\" \".join(str(a) for a in (cls_id, *bb)) + '\\n')\n",
    "\n",
    "dir = Path(data['path'])\n",
    "\n",
    "path = dir / 'images'\n",
    "for image_set in 'train', 'val', 'test':\n",
    "    imgs_path = dir / 'images' / f'{image_set}'\n",
    "    lbs_path = dir / 'labels' / f'{image_set}'\n",
    "    lbs_path.mkdir(exist_ok=True, parents=True)\n",
    "\n",
    "    image_ids = []\n",
    "    for filename in os.listdir(f\"datasets/tables/images/{image_set}\"):\n",
    "        if filename.endswith(\".jpg\"):\n",
    "            image_ids.append(os.path.splitext(filename)[0])\n",
    "\n",
    "    for image_id in tqdm(image_ids, desc=f'{image_set}'):\n",
    "        f = f'datasets/tables/images/{image_set}/{image_id}.jpg'  \n",
    "        f_name = os.path.basename(f)\n",
    "        lb_path = (lbs_path / f_name).with_suffix('.txt')  \n",
    "        #os.rename(f, imgs_path / f_name)  # move image\n",
    "        convert_label(path, lb_path, image_id,image_set)  "
   ]
  },
  {
   "cell_type": "code",
   "execution_count": null,
   "metadata": {},
   "outputs": [],
   "source": []
  },
  {
   "cell_type": "code",
   "execution_count": null,
   "metadata": {},
   "outputs": [],
   "source": [
    "model = RTDETR('rtdetr-resnet18.yaml')\n",
    "model.info()"
   ]
  },
  {
   "cell_type": "code",
   "execution_count": null,
   "metadata": {},
   "outputs": [],
   "source": [
    "results = model.train(data=r'datasets\\tables\\data.yaml', epochs= 40, batch=32, save_period=2, project = 'tabdet',pretrained ='false', imgsz = [320])"
   ]
  },
  {
   "cell_type": "code",
   "execution_count": null,
   "metadata": {},
   "outputs": [],
   "source": [
    "model = RTDETR(r'tabdet\\train3\\weights\\best.pt')\n",
    "metrices = model.val(data=r'datasets\\tables\\data.yaml', split ='test')"
   ]
  },
  {
   "cell_type": "code",
   "execution_count": null,
   "metadata": {},
   "outputs": [],
   "source": [
    "test_dir = r\"datasets\\tables\\images\\test\"\n",
    "file_list = os.listdir(test_dir)[:10]\n",
    "\n",
    "for idx, file in enumerate(file_list, start=1):\n",
    "    results= model(os.path.join(test_dir,file))\n",
    "    for result in results: \n",
    "        boxes = result.boxes \n",
    "        masks = result.masks\n",
    "        keypoints = result.keypoints \n",
    "        probs = result.probs \n",
    "        result.save(filename= f'result{idx}.jpg')"
   ]
  }
 ],
 "metadata": {
  "kernelspec": {
   "display_name": "Python 3",
   "language": "python",
   "name": "python3"
  },
  "language_info": {
   "codemirror_mode": {
    "name": "ipython",
    "version": 3
   },
   "file_extension": ".py",
   "mimetype": "text/x-python",
   "name": "python",
   "nbconvert_exporter": "python",
   "pygments_lexer": "ipython3",
   "version": "3.12.2"
  }
 },
 "nbformat": 4,
 "nbformat_minor": 2
}
